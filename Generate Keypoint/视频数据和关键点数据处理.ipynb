{
 "cells": [
  {
   "cell_type": "code",
   "execution_count": 12,
   "id": "d61e5480-a5e4-462e-9817-c69839a28f87",
   "metadata": {
    "tags": []
   },
   "outputs": [],
   "source": [
    "import pandas as pd\n",
    "import os\n",
    "import cv2\n",
    "import matplotlib.pyplot as plt\n",
    "import json\n",
    "import numpy as np"
   ]
  },
  {
   "cell_type": "code",
   "execution_count": 13,
   "id": "ecefc3c6-2ae4-40e9-a280-62f5cfd6f9f5",
   "metadata": {
    "tags": []
   },
   "outputs": [],
   "source": [
    "train_data = pd.read_csv('filter_train_Data.csv',index_col= 'SENTENCE_NAME')\n",
    "val_data = pd.read_csv('filter_val_Data.csv',index_col= 'SENTENCE_NAME')\n",
    "test_data = pd.read_csv('filter_test_Data.csv',index_col= 'SENTENCE_NAME')\n"
   ]
  },
  {
   "cell_type": "code",
   "execution_count": 14,
   "id": "59b6b923-ffbd-4c8f-adb8-d7187ba682f0",
   "metadata": {
    "tags": []
   },
   "outputs": [
    {
     "name": "stdout",
     "output_type": "stream",
     "text": [
      "31 448\n",
      "30 596.0\n",
      "31 448\n"
     ]
    }
   ],
   "source": [
    "'330'\n",
    "print(len(train_data),train_data['FRAME_COUNT'].max())\n",
    "print(len(val_data),val_data['FRAME_COUNT'].max())\n",
    "print(len(test_data),test_data['FRAME_COUNT'].max())\n"
   ]
  },
  {
   "cell_type": "code",
   "execution_count": 15,
   "id": "2ad49b0e-b15f-47a6-8146-c1407cde99a8",
   "metadata": {
    "tags": []
   },
   "outputs": [],
   "source": [
    "'文本预处理'\n",
    "train_data['SENTENCE'] = train_data['SENTENCE'].str.lower()\n",
    "val_data['SENTENCE'] = val_data['SENTENCE'].str.lower()\n",
    "test_data['SENTENCE'] = test_data['SENTENCE'].str.lower()\n",
    "\n"
   ]
  },
  {
   "cell_type": "code",
   "execution_count": 16,
   "id": "7cd59ee1-1ceb-423e-9a43-64518bc7976f",
   "metadata": {
    "tags": []
   },
   "outputs": [],
   "source": [
    "def frame_generate(train_data, downsample_rate, type):\n",
    "    if type =='train':\n",
    "        output_base_folder = './how2sign/frame/train'\n",
    "    elif type =='val':\n",
    "        output_base_folder = './how2sign/frame/val'\n",
    "    elif type =='test':\n",
    "        output_base_folder = './how2sign/frame/test'\n",
    "    else:\n",
    "        return ValueError\n",
    "    if not os.path.exists(output_base_folder):\n",
    "        os.makedirs(output_base_folder)\n",
    "    for index, row in train_data.iterrows():\n",
    "\n",
    "        video_path = row['VIDEO_PATH']  # 访问列值\n",
    "\n",
    "        output_folder = os.path.join(output_base_folder, index)\n",
    "        if not os.path.exists(output_folder):\n",
    "            os.makedirs(output_folder)\n",
    "        cap = cv2.VideoCapture(video_path)\n",
    "        if not cap.isOpened():\n",
    "            # print(f\"Error: Cannot open video {video_path}.\")\n",
    "            return\n",
    "        frame_count = 0\n",
    "        saved_frame_count = 0\n",
    "        while True:\n",
    "            ret, frame = cap.read()\n",
    "            if not ret:\n",
    "                break  # 如果没有帧了就退出循环\n",
    "    \n",
    "            # 只保存每第 downsample_rate 帧\n",
    "            if frame_count % downsample_rate == 0:\n",
    "                if frame is not None and frame.size > 0:\n",
    "                    resized_frame = cv2.resize(frame, (256, 256), interpolation=cv2.INTER_LINEAR)\n",
    "                    \n",
    "                    frame_file = os.path.join(output_folder, f\"frame_{saved_frame_count:04d}.jpg\")\n",
    "                    \n",
    "                    success = cv2.imwrite(frame_file, resized_frame)\n",
    "                    # print(f\"Attempt to save frame {saved_frame_count}: {success}\")\n",
    "                    saved_frame_count += 1\n",
    "                else:\n",
    "                    print(f\"Warning: Frame {frame_count} is empty or corrupted.\")\n",
    "    \n",
    "            frame_count += 1\n",
    "        cap.release()\n",
    "\n",
    "    print(f'生成帧数据集结束，最终数据为{index},{saved_frame_count}')\n",
    "    return "
   ]
  },
  {
   "cell_type": "code",
   "execution_count": 17,
   "id": "535c2d36-6023-40f6-b579-f88aca14e34d",
   "metadata": {
    "tags": []
   },
   "outputs": [],
   "source": [
    "downsample_rate = 1"
   ]
  },
  {
   "cell_type": "code",
   "execution_count": 18,
   "id": "8ddb9db1-0195-4d81-bf84-c13f9175069a",
   "metadata": {
    "tags": []
   },
   "outputs": [
    {
     "name": "stdout",
     "output_type": "stream",
     "text": [
      "生成帧数据集结束，最终数据为f_zna_wG3zo_9-10-rgb_front,87\n",
      "生成帧数据集结束，最终数据为f_zna_wG3zo_9-5-rgb_front,116\n",
      "生成帧数据集结束，最终数据为f_zna_wG3zo_9-8-rgb_front,87\n"
     ]
    }
   ],
   "source": [
    "frame_generate(train_data,downsample_rate,'train')\n",
    "frame_generate(val_data,downsample_rate,'val')\n",
    "frame_generate(test_data,downsample_rate,'test')"
   ]
  },
  {
   "cell_type": "code",
   "execution_count": 19,
   "id": "8eba97a2-3827-4b0a-8d9a-b96370687803",
   "metadata": {
    "tags": []
   },
   "outputs": [],
   "source": [
    "# def draw_keypoints(image, keypoints, confidence_threshold=0.1):\n",
    "#     for i in range(0, len(keypoints), 3):\n",
    "#         x, y, confidence = keypoints[i:i + 3]\n",
    "#         if confidence > confidence_threshold:\n",
    "#             scaled_x, scaled_y = int(x ), int(y )\n",
    "#             color = (float(confidence)*255, 0, 0)  # (B, G, R)\n",
    "\n",
    "#             if 0 <= scaled_x < 1280 and 0 <= scaled_y < 720:\n",
    "#                 image[scaled_y, scaled_x] = color\n",
    "                \n",
    "def draw_keypoints(image, keypoints, confidence_threshold=0.1, original_size=(1280, 720), target_size=(256, 256), radius=2):\n",
    "    \"\"\"\n",
    "    在图像中绘制关键点，并对关键点周围区域进行扩展。\n",
    "\n",
    "    参数：\n",
    "    - image: 输入的图像 (height, width, 3)。\n",
    "    - keypoints: 关键点列表，形状为 (n, 3)。\n",
    "    - confidence_threshold: 绘制关键点的置信度阈值。\n",
    "    - original_size: 原始图像尺寸 (width, height)。\n",
    "    - target_size: 缩放后的目标图像尺寸 (width, height)。\n",
    "    - radius: 扩展半径。\n",
    "\n",
    "    返回：\n",
    "    - image: 绘制了关键点并扩展后的图像。\n",
    "    \"\"\"\n",
    "    scale_x = target_size[0] / original_size[0]\n",
    "    scale_y = target_size[1] / original_size[1]\n",
    "    \n",
    "    for i in range(0, len(keypoints), 3):\n",
    "        x, y, confidence = keypoints[i:i + 3]\n",
    "        if confidence > confidence_threshold:\n",
    "            # 缩放坐标到目标图像尺寸\n",
    "            scaled_x = int(x * scale_x)\n",
    "            scaled_y = int(y * scale_y)\n",
    "            \n",
    "            # 颜色表示\n",
    "            color = (min(max(int(float(confidence) * 255), 0), 255), 0, 0)  # (B, G, R)  # (B, G, R)\n",
    "            \n",
    "            # 确保坐标在目标图像范围内\n",
    "            if 0 <= scaled_x < target_size[0] and 0 <= scaled_y < target_size[1]:\n",
    "                # 绘制中心点\n",
    "                image[scaled_y, scaled_x] = color\n",
    "                \n",
    "                # 对关键点周围进行扩展\n",
    "                row_start = max(0, scaled_y - radius)\n",
    "                row_end = min(target_size[1], scaled_y + radius + 1)\n",
    "                col_start = max(0, scaled_x - radius)\n",
    "                col_end = min(target_size[0], scaled_x + radius + 1)\n",
    "                image[row_start:row_end, col_start:col_end] = color\n",
    "                \n",
    "    return image\n",
    "\n",
    "\n",
    "def process_json_file(json_file, image_size):\n",
    "    with open(json_file, 'r') as f:\n",
    "        data = json.load(f)\n",
    "\n",
    "    image = np.zeros((int(image_size[1] ), int(image_size[0] ), 3), dtype=np.uint8)\n",
    "\n",
    "\n",
    "    for person in data['people']:\n",
    "\n",
    "        if 'hand_left_keypoints_2d' in person:\n",
    "            draw_keypoints(image, person['hand_left_keypoints_2d'])\n",
    "        if 'hand_right_keypoints_2d' in person:\n",
    "            draw_keypoints(image, person['hand_right_keypoints_2d'])\n",
    "\n",
    "    return image\n"
   ]
  },
  {
   "cell_type": "code",
   "execution_count": 20,
   "id": "1ffde7a4-a135-4a4b-99c7-cb0d3dc6325f",
   "metadata": {
    "tags": []
   },
   "outputs": [],
   "source": [
    "def keypoint_generate(train_data, downsample_rate, type):\n",
    "    image_size= (256,256)\n",
    "    if type =='train':\n",
    "        output_base_folder = './how2sign/frame/key/train'\n",
    "    elif type =='val':\n",
    "        output_base_folder = './how2sign/frame/key/val'\n",
    "    elif type =='test':\n",
    "        output_base_folder = './how2sign/frame/key/test'\n",
    "    else:\n",
    "        return ValueError\n",
    "    if not os.path.exists(output_base_folder):\n",
    "        os.makedirs(output_base_folder)\n",
    "    for index, row in train_data.iterrows():\n",
    "        output_folder = os.path.join(output_base_folder, index)\n",
    "        if not os.path.exists(output_folder):\n",
    "            os.makedirs(output_folder)\n",
    "        dir_path = row['JSON_PATH']  # 访问列值\n",
    "        json_files = sorted([f for f in os.listdir(dir_path) if f.endswith('.json')])\n",
    "        total_files = len(json_files)\n",
    "        selected_frames = list(range(0, total_files, downsample_rate))\n",
    "\n",
    "        for frame_idx,idx in enumerate(selected_frames):\n",
    "            json_file = os.path.join(dir_path, json_files[idx])\n",
    "            image = process_json_file(json_file, image_size)\n",
    "            frame_name = f\"frame_{str(frame_idx).zfill(4)}.png\"\n",
    "            output_path = os.path.join(output_folder, frame_name)\n",
    "\n",
    "            os.makedirs(os.path.dirname(output_path), exist_ok=True)\n",
    "            cv2.imwrite(output_path, image)\n",
    "\n",
    "        \n",
    "    print(f'生成关键点数据集结束，最终数据为{index}')\n",
    "    return "
   ]
  },
  {
   "cell_type": "code",
   "execution_count": 21,
   "id": "8adbf461-9932-492e-99e0-8558c85d6a57",
   "metadata": {
    "tags": []
   },
   "outputs": [
    {
     "name": "stdout",
     "output_type": "stream",
     "text": [
      "生成关键点数据集结束，最终数据为f_zna_wG3zo_9-10-rgb_front\n",
      "生成关键点数据集结束，最终数据为f_zna_wG3zo_9-5-rgb_front\n",
      "生成关键点数据集结束，最终数据为f_zna_wG3zo_9-8-rgb_front\n"
     ]
    }
   ],
   "source": [
    "\n",
    "keypoint_generate(train_data, downsample_rate, 'train')\n",
    "keypoint_generate(val_data, downsample_rate, 'val')\n",
    "keypoint_generate(test_data, downsample_rate, 'test')"
   ]
  },
  {
   "cell_type": "code",
   "execution_count": null,
   "id": "15e6f6ac-7b1a-4dcd-9afe-3c57a98435dc",
   "metadata": {},
   "outputs": [],
   "source": []
  },
  {
   "cell_type": "code",
   "execution_count": null,
   "id": "3c59d518-b45c-4a91-b4af-a4be4091eff1",
   "metadata": {},
   "outputs": [],
   "source": []
  }
 ],
 "metadata": {
  "kernelspec": {
   "display_name": "Python 3 (ipykernel)",
   "language": "python",
   "name": "python3"
  },
  "language_info": {
   "codemirror_mode": {
    "name": "ipython",
    "version": 3
   },
   "file_extension": ".py",
   "mimetype": "text/x-python",
   "name": "python",
   "nbconvert_exporter": "python",
   "pygments_lexer": "ipython3",
   "version": "3.8.10"
  }
 },
 "nbformat": 4,
 "nbformat_minor": 5
}
